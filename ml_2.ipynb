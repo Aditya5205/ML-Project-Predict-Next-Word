{
 "cells": [
  {
   "cell_type": "code",
   "execution_count": 1,
   "id": "81256b8d",
   "metadata": {},
   "outputs": [],
   "source": [
    "import random\n",
    "import pickle\n",
    "import itertools\n",
    "\n",
    "import numpy as np\n",
    "import pandas as pd\n",
    "from nltk.tokenize import RegexpTokenizer\n",
    "\n",
    "from keras.models import Sequential, load_model\n",
    "from keras.layers.core import Dense, Activation\n",
    "from keras.optimizers import RMSprop\n",
    "from keras.layers import LSTM"
   ]
  },
  {
   "cell_type": "code",
   "execution_count": 3,
   "id": "23199055",
   "metadata": {},
   "outputs": [
    {
     "name": "stdout",
     "output_type": "stream",
     "text": [
      "corpus length: 581877\n"
     ]
    }
   ],
   "source": [
    "# loading the text file \n",
    "text = open('1661-0.txt',mode='r',encoding=\"utf-8\").read().lower()\n",
    "print('corpus length:', len(text))"
   ]
  },
  {
   "cell_type": "code",
   "execution_count": 4,
   "id": "dc6ea108",
   "metadata": {},
   "outputs": [
    {
     "data": {
      "text/plain": [
       "\"\\ufeff\\nproject gutenberg's the adventures of sherlock holmes, by arthur conan doyle\\n\\nthis ebook is for th\""
      ]
     },
     "execution_count": 4,
     "metadata": {},
     "output_type": "execute_result"
    }
   ],
   "source": [
    "text[:100]"
   ]
  },
  {
   "cell_type": "code",
   "execution_count": 43,
   "id": "370dbb92",
   "metadata": {},
   "outputs": [],
   "source": [
    "partial_text = text[:50000]"
   ]
  },
  {
   "cell_type": "code",
   "execution_count": 44,
   "id": "ffc55dd5",
   "metadata": {},
   "outputs": [],
   "source": [
    "tokenizer = RegexpTokenizer(r'\\w+')\n",
    "tokens = tokenizer.tokenize(partial_text)"
   ]
  },
  {
   "cell_type": "code",
   "execution_count": 45,
   "id": "6da7c11e",
   "metadata": {
    "scrolled": true
   },
   "outputs": [
    {
     "data": {
      "text/plain": [
       "['project',\n",
       " 'gutenberg',\n",
       " 's',\n",
       " 'the',\n",
       " 'adventures',\n",
       " 'of',\n",
       " 'sherlock',\n",
       " 'holmes',\n",
       " 'by',\n",
       " 'arthur']"
      ]
     },
     "execution_count": 45,
     "metadata": {},
     "output_type": "execute_result"
    }
   ],
   "source": [
    "tokens[:10]"
   ]
  },
  {
   "cell_type": "code",
   "execution_count": 46,
   "id": "313e5169",
   "metadata": {},
   "outputs": [],
   "source": [
    "unique_tokens = np.unique(tokens)\n",
    "# mapping each unique word to a index in a dictionary\n",
    "unique_tokens_index = {tokens : idx for idx,tokens in enumerate(unique_tokens)}"
   ]
  },
  {
   "cell_type": "code",
   "execution_count": 47,
   "id": "77728c32",
   "metadata": {},
   "outputs": [
    {
     "data": {
      "text/plain": [
       "{'15': 0,\n",
       " '1661': 1,\n",
       " '1858': 2,\n",
       " '1888': 3,\n",
       " '20': 4,\n",
       " '2002': 5,\n",
       " '2019': 6,\n",
       " '29': 7,\n",
       " '5': 8,\n",
       " '8': 9}"
      ]
     },
     "execution_count": 47,
     "metadata": {},
     "output_type": "execute_result"
    }
   ],
   "source": [
    "# first 10 key-values in dictionary\n",
    "dict(itertools.islice(unique_tokens_index.items(), 10))"
   ]
  },
  {
   "cell_type": "code",
   "execution_count": 48,
   "id": "136ace44",
   "metadata": {},
   "outputs": [],
   "source": [
    "n_words = 10\n",
    "input_words = []\n",
    "next_words = []\n",
    "\n",
    "for i in range(len(tokens) - n_words):\n",
    "    input_words.append(tokens[i : i + n_words])\n",
    "    next_words.append(tokens[i + n_words])"
   ]
  },
  {
   "cell_type": "code",
   "execution_count": 49,
   "id": "3c42c966",
   "metadata": {},
   "outputs": [
    {
     "data": {
      "text/plain": [
       "[['project',\n",
       "  'gutenberg',\n",
       "  's',\n",
       "  'the',\n",
       "  'adventures',\n",
       "  'of',\n",
       "  'sherlock',\n",
       "  'holmes',\n",
       "  'by',\n",
       "  'arthur'],\n",
       " ['gutenberg',\n",
       "  's',\n",
       "  'the',\n",
       "  'adventures',\n",
       "  'of',\n",
       "  'sherlock',\n",
       "  'holmes',\n",
       "  'by',\n",
       "  'arthur',\n",
       "  'conan']]"
      ]
     },
     "execution_count": 49,
     "metadata": {},
     "output_type": "execute_result"
    }
   ],
   "source": [
    "input_words[:2]"
   ]
  },
  {
   "cell_type": "code",
   "execution_count": 50,
   "id": "2124cb0c",
   "metadata": {},
   "outputs": [
    {
     "data": {
      "text/plain": [
       "['conan', 'doyle', 'this', 'ebook', 'is', 'for', 'the', 'use', 'of', 'anyone']"
      ]
     },
     "execution_count": 50,
     "metadata": {},
     "output_type": "execute_result"
    }
   ],
   "source": [
    "next_words[:10]"
   ]
  },
  {
   "cell_type": "code",
   "execution_count": 51,
   "id": "fc62e633",
   "metadata": {},
   "outputs": [],
   "source": [
    "X = np.zeros((len(input_words),n_words,len(unique_tokens)), dtype=bool)\n",
    "Y = np.zeros((len(next_words),len(unique_tokens)), dtype=bool)"
   ]
  },
  {
   "cell_type": "code",
   "execution_count": 52,
   "id": "87cdb656",
   "metadata": {},
   "outputs": [
    {
     "data": {
      "text/plain": [
       "array([[[False, False, False, ..., False, False, False],\n",
       "        [False, False, False, ..., False, False, False],\n",
       "        [False, False, False, ..., False, False, False],\n",
       "        ...,\n",
       "        [False, False, False, ..., False, False, False],\n",
       "        [False, False, False, ..., False, False, False],\n",
       "        [False, False, False, ..., False, False, False]],\n",
       "\n",
       "       [[False, False, False, ..., False, False, False],\n",
       "        [False, False, False, ..., False, False, False],\n",
       "        [False, False, False, ..., False, False, False],\n",
       "        ...,\n",
       "        [False, False, False, ..., False, False, False],\n",
       "        [False, False, False, ..., False, False, False],\n",
       "        [False, False, False, ..., False, False, False]],\n",
       "\n",
       "       [[False, False, False, ..., False, False, False],\n",
       "        [False, False, False, ..., False, False, False],\n",
       "        [False, False, False, ..., False, False, False],\n",
       "        ...,\n",
       "        [False, False, False, ..., False, False, False],\n",
       "        [False, False, False, ..., False, False, False],\n",
       "        [False, False, False, ..., False, False, False]],\n",
       "\n",
       "       ...,\n",
       "\n",
       "       [[False, False, False, ..., False, False, False],\n",
       "        [False, False, False, ..., False, False, False],\n",
       "        [False, False, False, ..., False, False, False],\n",
       "        ...,\n",
       "        [False, False, False, ..., False, False, False],\n",
       "        [False, False, False, ..., False, False, False],\n",
       "        [False, False, False, ..., False, False, False]],\n",
       "\n",
       "       [[False, False, False, ..., False, False, False],\n",
       "        [False, False, False, ..., False, False, False],\n",
       "        [False, False, False, ..., False, False, False],\n",
       "        ...,\n",
       "        [False, False, False, ..., False, False, False],\n",
       "        [False, False, False, ..., False, False, False],\n",
       "        [False, False, False, ..., False, False, False]],\n",
       "\n",
       "       [[False, False, False, ..., False, False, False],\n",
       "        [False, False, False, ..., False, False, False],\n",
       "        [False, False, False, ..., False, False, False],\n",
       "        ...,\n",
       "        [False, False, False, ..., False, False, False],\n",
       "        [False, False, False, ..., False, False, False],\n",
       "        [False, False, False, ..., False, False, False]]])"
      ]
     },
     "execution_count": 52,
     "metadata": {},
     "output_type": "execute_result"
    }
   ],
   "source": [
    "X"
   ]
  },
  {
   "cell_type": "code",
   "execution_count": 53,
   "id": "98e6eca5",
   "metadata": {},
   "outputs": [
    {
     "data": {
      "text/plain": [
       "array([[False, False, False, ..., False, False, False],\n",
       "       [False, False, False, ..., False, False, False],\n",
       "       [False, False, False, ..., False, False, False],\n",
       "       ...,\n",
       "       [False, False, False, ..., False, False, False],\n",
       "       [False, False, False, ..., False, False, False],\n",
       "       [False, False, False, ..., False, False, False]])"
      ]
     },
     "execution_count": 53,
     "metadata": {},
     "output_type": "execute_result"
    }
   ],
   "source": [
    "Y"
   ]
  },
  {
   "cell_type": "code",
   "execution_count": 54,
   "id": "0e13949b",
   "metadata": {},
   "outputs": [],
   "source": [
    "for i, words in enumerate(input_words):\n",
    "    for j, word in enumerate(words):\n",
    "        X[i,j,unique_tokens_index[word]] = 1\n",
    "    Y[i,unique_tokens_index[next_words[i]]] = 1"
   ]
  },
  {
   "cell_type": "code",
   "execution_count": 55,
   "id": "4608328d",
   "metadata": {},
   "outputs": [],
   "source": [
    "model = Sequential([\n",
    "    LSTM(128, input_shape=(n_words,len(unique_tokens)), return_sequences=True),\n",
    "    LSTM(128),\n",
    "    Dense(len(unique_tokens)),\n",
    "    Activation('softmax')\n",
    "])"
   ]
  },
  {
   "cell_type": "code",
   "execution_count": 56,
   "id": "f6ffdd38",
   "metadata": {},
   "outputs": [
    {
     "name": "stdout",
     "output_type": "stream",
     "text": [
      "Epoch 1/30\n",
      "73/73 [==============================] - 15s 168ms/step - loss: 6.4465 - accuracy: 0.0476\n",
      "Epoch 2/30\n",
      "73/73 [==============================] - 14s 191ms/step - loss: 5.9949 - accuracy: 0.0648\n",
      "Epoch 3/30\n",
      "73/73 [==============================] - 12s 167ms/step - loss: 5.6677 - accuracy: 0.0798\n",
      "Epoch 4/30\n",
      "73/73 [==============================] - 10s 143ms/step - loss: 5.2715 - accuracy: 0.1039\n",
      "Epoch 5/30\n",
      "73/73 [==============================] - 11s 155ms/step - loss: 4.8769 - accuracy: 0.1345\n",
      "Epoch 6/30\n",
      "73/73 [==============================] - 12s 158ms/step - loss: 4.4521 - accuracy: 0.1720\n",
      "Epoch 7/30\n",
      "73/73 [==============================] - 13s 176ms/step - loss: 3.9683 - accuracy: 0.2329\n",
      "Epoch 8/30\n",
      "73/73 [==============================] - 9s 120ms/step - loss: 3.4859 - accuracy: 0.3010\n",
      "Epoch 9/30\n",
      "73/73 [==============================] - 12s 163ms/step - loss: 2.9748 - accuracy: 0.3800\n",
      "Epoch 10/30\n",
      "73/73 [==============================] - 13s 180ms/step - loss: 2.4836 - accuracy: 0.4654\n",
      "Epoch 11/30\n",
      "73/73 [==============================] - 14s 198ms/step - loss: 2.0100 - accuracy: 0.5671\n",
      "Epoch 12/30\n",
      "73/73 [==============================] - 11s 148ms/step - loss: 1.6333 - accuracy: 0.6644\n",
      "Epoch 13/30\n",
      "73/73 [==============================] - 8s 107ms/step - loss: 1.3076 - accuracy: 0.7433\n",
      "Epoch 14/30\n",
      "73/73 [==============================] - 12s 162ms/step - loss: 1.0134 - accuracy: 0.8152\n",
      "Epoch 15/30\n",
      "73/73 [==============================] - 13s 179ms/step - loss: 0.7950 - accuracy: 0.8596\n",
      "Epoch 16/30\n",
      "73/73 [==============================] - 13s 179ms/step - loss: 0.6190 - accuracy: 0.8997\n",
      "Epoch 17/30\n",
      "73/73 [==============================] - 13s 181ms/step - loss: 0.4855 - accuracy: 0.9296\n",
      "Epoch 18/30\n",
      "73/73 [==============================] - 11s 147ms/step - loss: 0.4284 - accuracy: 0.9369\n",
      "Epoch 19/30\n",
      "73/73 [==============================] - 9s 130ms/step - loss: 0.3557 - accuracy: 0.9494\n",
      "Epoch 20/30\n",
      "73/73 [==============================] - 12s 167ms/step - loss: 0.3164 - accuracy: 0.9563\n",
      "Epoch 21/30\n",
      "73/73 [==============================] - 10s 136ms/step - loss: 0.2702 - accuracy: 0.9627\n",
      "Epoch 22/30\n",
      "73/73 [==============================] - 12s 161ms/step - loss: 0.2314 - accuracy: 0.9710\n",
      "Epoch 23/30\n",
      "73/73 [==============================] - 12s 168ms/step - loss: 0.2158 - accuracy: 0.9699\n",
      "Epoch 24/30\n",
      "73/73 [==============================] - 12s 166ms/step - loss: 0.1914 - accuracy: 0.9746\n",
      "Epoch 25/30\n",
      "73/73 [==============================] - 11s 149ms/step - loss: 0.1763 - accuracy: 0.9760\n",
      "Epoch 26/30\n",
      "73/73 [==============================] - 13s 184ms/step - loss: 0.1783 - accuracy: 0.9751\n",
      "Epoch 27/30\n",
      "73/73 [==============================] - 11s 145ms/step - loss: 0.1546 - accuracy: 0.9806\n",
      "Epoch 28/30\n",
      "73/73 [==============================] - 12s 159ms/step - loss: 0.1381 - accuracy: 0.9832\n",
      "Epoch 29/30\n",
      "73/73 [==============================] - 11s 152ms/step - loss: 0.1385 - accuracy: 0.9811\n",
      "Epoch 30/30\n",
      "73/73 [==============================] - 12s 161ms/step - loss: 0.1236 - accuracy: 0.9850\n"
     ]
    },
    {
     "data": {
      "text/plain": [
       "<keras.callbacks.History at 0x192ff573bb0>"
      ]
     },
     "execution_count": 56,
     "metadata": {},
     "output_type": "execute_result"
    }
   ],
   "source": [
    "model.compile(loss='categorical_crossentropy', optimizer=RMSprop(learning_rate=0.01), metrics=['accuracy'])\n",
    "model.fit(X, Y, batch_size=128, epochs=30, shuffle=True)"
   ]
  },
  {
   "cell_type": "code",
   "execution_count": 57,
   "id": "d49ad4d0",
   "metadata": {},
   "outputs": [],
   "source": [
    "# saving the model\n",
    "model.save('word_pred.h5')"
   ]
  },
  {
   "cell_type": "code",
   "execution_count": 58,
   "id": "18a4f7c7",
   "metadata": {},
   "outputs": [],
   "source": [
    "# loading model\n",
    "# model = load_model('word_pred.h5')\n",
    "# history = pickle.load(open(\"history.p\", \"rb\"))"
   ]
  },
  {
   "cell_type": "code",
   "execution_count": 66,
   "id": "2c255a40",
   "metadata": {},
   "outputs": [],
   "source": [
    "def predict_next_word(input_text,n_best):\n",
    "    input_text = input_text.lower()\n",
    "    \n",
    "    X = np.zeros((1,n_words,len(unique_tokens)))\n",
    "    for i,word in enumerate(input_text.split()):\n",
    "        X[0, i, unique_tokens_index[word]] = 1\n",
    "        \n",
    "    predictions = model.predict(X)[0]\n",
    "    return np.argpartition(predictions, -n_best)[-n_best:]"
   ]
  },
  {
   "cell_type": "code",
   "execution_count": 67,
   "id": "de96ceff",
   "metadata": {},
   "outputs": [
    {
     "name": "stdout",
     "output_type": "stream",
     "text": [
      "1/1 [==============================] - 0s 16ms/step\n"
     ]
    }
   ],
   "source": [
    "possible_words = predict_next_word('',5)"
   ]
  },
  {
   "cell_type": "code",
   "execution_count": 68,
   "id": "d950665a",
   "metadata": {},
   "outputs": [
    {
     "data": {
      "text/plain": [
       "array([ 148,  741, 1169, 1224,  841], dtype=int64)"
      ]
     },
     "execution_count": 68,
     "metadata": {},
     "output_type": "execute_result"
    }
   ],
   "source": [
    "possible_words"
   ]
  },
  {
   "cell_type": "code",
   "execution_count": 69,
   "id": "917179ac",
   "metadata": {},
   "outputs": [
    {
     "name": "stdout",
     "output_type": "stream",
     "text": [
      "['back', 'gentleman', 'mr', 'now', 'here']\n"
     ]
    }
   ],
   "source": [
    "print([unique_tokens[idx] for idx in possible_words])"
   ]
  },
  {
   "cell_type": "code",
   "execution_count": 70,
   "id": "f441531d",
   "metadata": {},
   "outputs": [],
   "source": [
    "def generate_text(input_text, text_length, creativity=3):\n",
    "    word_sequence = input_text.split()\n",
    "    current = 0\n",
    "    for _ in range(text_length):\n",
    "        sub_sequence = \" \".join(tokenizer.tokenize(\" \".join(word_sequence).lower())[current:current+n_words])\n",
    "        try:\n",
    "            choice = unique_tokens[random.choice(predict_next_word(sub_sequence,creativity))]\n",
    "        except:\n",
    "            choice = random.choice(unique_tokens)\n",
    "        \n",
    "        word_sequence.append(choice)\n",
    "        current += 1\n",
    "        \n",
    "    return \" \".join(word_sequence)"
   ]
  },
  {
   "cell_type": "code",
   "execution_count": 71,
   "id": "58e2217a",
   "metadata": {},
   "outputs": [
    {
     "name": "stdout",
     "output_type": "stream",
     "text": [
      "1/1 [==============================] - 0s 16ms/step\n",
      "1/1 [==============================] - 0s 16ms/step\n",
      "1/1 [==============================] - 0s 16ms/step\n",
      "1/1 [==============================] - 0s 16ms/step\n",
      "1/1 [==============================] - 0s 16ms/step\n",
      "1/1 [==============================] - 0s 16ms/step\n",
      "1/1 [==============================] - 0s 16ms/step\n",
      "1/1 [==============================] - 0s 22ms/step\n",
      "1/1 [==============================] - 0s 16ms/step\n",
      "1/1 [==============================] - 0s 16ms/step\n",
      "1/1 [==============================] - 0s 16ms/step\n",
      "1/1 [==============================] - 0s 16ms/step\n",
      "1/1 [==============================] - 0s 16ms/step\n",
      "1/1 [==============================] - 0s 16ms/step\n",
      "1/1 [==============================] - 0s 16ms/step\n",
      "1/1 [==============================] - 0s 21ms/step\n",
      "1/1 [==============================] - 0s 16ms/step\n",
      "1/1 [==============================] - 0s 16ms/step\n",
      "1/1 [==============================] - 0s 16ms/step\n",
      "1/1 [==============================] - 0s 16ms/step\n"
     ]
    },
    {
     "data": {
      "text/plain": [
       "'My own complete happiness gentleman a it an this between a could on any that room pooh could 8 round is back glancing by'"
      ]
     },
     "execution_count": 71,
     "metadata": {},
     "output_type": "execute_result"
    }
   ],
   "source": [
    "generate_text('My own complete happiness',20,5)"
   ]
  },
  {
   "cell_type": "code",
   "execution_count": 72,
   "id": "fc243091",
   "metadata": {},
   "outputs": [
    {
     "name": "stdout",
     "output_type": "stream",
     "text": [
      "1/1 [==============================] - 0s 16ms/step\n"
     ]
    },
    {
     "data": {
      "text/plain": [
       "array([1641,  413,  766, 1269, 1974], dtype=int64)"
      ]
     },
     "execution_count": 72,
     "metadata": {},
     "output_type": "execute_result"
    }
   ],
   "source": [
    "predict_next_word('He will have to see into this thing and he',5)"
   ]
  },
  {
   "cell_type": "code",
   "execution_count": 73,
   "id": "995cd7d7",
   "metadata": {},
   "outputs": [
    {
     "name": "stdout",
     "output_type": "stream",
     "text": [
      "['back', 'gentleman', 'mr', 'now', 'here']\n"
     ]
    }
   ],
   "source": [
    "print([unique_tokens[idx] for idx in possible_words])"
   ]
  },
  {
   "cell_type": "code",
   "execution_count": null,
   "id": "fc55b7b3",
   "metadata": {},
   "outputs": [],
   "source": []
  }
 ],
 "metadata": {
  "kernelspec": {
   "display_name": "Python 3 (ipykernel)",
   "language": "python",
   "name": "python3"
  },
  "language_info": {
   "codemirror_mode": {
    "name": "ipython",
    "version": 3
   },
   "file_extension": ".py",
   "mimetype": "text/x-python",
   "name": "python",
   "nbconvert_exporter": "python",
   "pygments_lexer": "ipython3",
   "version": "3.10.9"
  }
 },
 "nbformat": 4,
 "nbformat_minor": 5
}
